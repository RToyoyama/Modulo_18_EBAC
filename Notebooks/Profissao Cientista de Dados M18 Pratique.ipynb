{
 "cells": [
  {
   "cell_type": "markdown",
   "metadata": {
    "id": "Bct3LixAaZWG"
   },
   "source": [
    "# **MÓDULO 18 - Pratique**\n",
    "# Regressão Linear"
   ]
  },
  {
   "cell_type": "markdown",
   "metadata": {
    "id": "w4_W1qBlaeZc"
   },
   "source": [
    "Agora que aprendemos como aplicar a regressão linear simples e múltipla, colocaremos em prática os conceitos vistos na aula."
   ]
  },
  {
   "cell_type": "markdown",
   "metadata": {
    "id": "gGrc-SQQaleL"
   },
   "source": [
    "Temos aqui uma base de imóveis para alugar, precisamos desenvolver um modelo de regressão linear múltipla para conseguir prever o preço de imóveis dadas as variáveis independentes do nosso modelo."
   ]
  },
  {
   "cell_type": "markdown",
   "metadata": {
    "id": "2Fd536bSK7dK"
   },
   "source": []
  },
  {
   "cell_type": "markdown",
   "metadata": {
    "id": "ehrFPajR2uAN"
   },
   "source": [
    "**Atenção! Esse é seu primeiro modelo, caso tenha dificuldade conte com a ajuda da tutoria**\n",
    "\n",
    "Você notará que alguns códigos já estão presentes para facilitar a construção de vocês."
   ]
  },
  {
   "cell_type": "code",
   "execution_count": 22,
   "metadata": {
    "id": "UYJv33ZAZ0QF"
   },
   "outputs": [],
   "source": [
    "import seaborn as sns\n",
    "import matplotlib.pyplot as plt\n",
    "import pandas as pd\n",
    "import plotly.express as px\n",
    "from sklearn.model_selection import train_test_split\n",
    "from sklearn.linear_model import LinearRegression\n",
    "from pathlib import Path\n",
    "import numpy as np\n",
    "import pandas as pd"
   ]
  },
  {
   "cell_type": "code",
   "execution_count": 23,
   "metadata": {
    "colab": {
     "base_uri": "https://localhost:8080/",
     "height": 363
    },
    "id": "6fzdslDya3Ub",
    "outputId": "e385cfd4-5c01-4354-ad56-faf5fdf80c91"
   },
   "outputs": [
    {
     "data": {
      "text/html": [
       "<div>\n",
       "<style scoped>\n",
       "    .dataframe tbody tr th:only-of-type {\n",
       "        vertical-align: middle;\n",
       "    }\n",
       "\n",
       "    .dataframe tbody tr th {\n",
       "        vertical-align: top;\n",
       "    }\n",
       "\n",
       "    .dataframe thead th {\n",
       "        text-align: right;\n",
       "    }\n",
       "</style>\n",
       "<table border=\"1\" class=\"dataframe\">\n",
       "  <thead>\n",
       "    <tr style=\"text-align: right;\">\n",
       "      <th></th>\n",
       "      <th>Valor_Aluguel</th>\n",
       "      <th>Valor_Condominio</th>\n",
       "      <th>Metragem</th>\n",
       "      <th>N_Quartos</th>\n",
       "      <th>N_banheiros</th>\n",
       "      <th>N_Suites</th>\n",
       "      <th>N_Vagas</th>\n",
       "    </tr>\n",
       "  </thead>\n",
       "  <tbody>\n",
       "    <tr>\n",
       "      <th>0</th>\n",
       "      <td>480</td>\n",
       "      <td>295</td>\n",
       "      <td>48</td>\n",
       "      <td>2</td>\n",
       "      <td>2</td>\n",
       "      <td>1</td>\n",
       "      <td>1</td>\n",
       "    </tr>\n",
       "    <tr>\n",
       "      <th>1</th>\n",
       "      <td>500</td>\n",
       "      <td>0</td>\n",
       "      <td>50</td>\n",
       "      <td>1</td>\n",
       "      <td>2</td>\n",
       "      <td>1</td>\n",
       "      <td>1</td>\n",
       "    </tr>\n",
       "    <tr>\n",
       "      <th>2</th>\n",
       "      <td>500</td>\n",
       "      <td>0</td>\n",
       "      <td>40</td>\n",
       "      <td>1</td>\n",
       "      <td>2</td>\n",
       "      <td>1</td>\n",
       "      <td>1</td>\n",
       "    </tr>\n",
       "    <tr>\n",
       "      <th>3</th>\n",
       "      <td>500</td>\n",
       "      <td>36</td>\n",
       "      <td>45</td>\n",
       "      <td>1</td>\n",
       "      <td>2</td>\n",
       "      <td>1</td>\n",
       "      <td>0</td>\n",
       "    </tr>\n",
       "    <tr>\n",
       "      <th>4</th>\n",
       "      <td>500</td>\n",
       "      <td>0</td>\n",
       "      <td>30</td>\n",
       "      <td>1</td>\n",
       "      <td>1</td>\n",
       "      <td>0</td>\n",
       "      <td>0</td>\n",
       "    </tr>\n",
       "    <tr>\n",
       "      <th>5</th>\n",
       "      <td>500</td>\n",
       "      <td>380</td>\n",
       "      <td>66</td>\n",
       "      <td>2</td>\n",
       "      <td>1</td>\n",
       "      <td>0</td>\n",
       "      <td>1</td>\n",
       "    </tr>\n",
       "    <tr>\n",
       "      <th>6</th>\n",
       "      <td>550</td>\n",
       "      <td>100</td>\n",
       "      <td>48</td>\n",
       "      <td>2</td>\n",
       "      <td>2</td>\n",
       "      <td>1</td>\n",
       "      <td>1</td>\n",
       "    </tr>\n",
       "    <tr>\n",
       "      <th>7</th>\n",
       "      <td>600</td>\n",
       "      <td>110</td>\n",
       "      <td>46</td>\n",
       "      <td>2</td>\n",
       "      <td>2</td>\n",
       "      <td>1</td>\n",
       "      <td>1</td>\n",
       "    </tr>\n",
       "    <tr>\n",
       "      <th>8</th>\n",
       "      <td>600</td>\n",
       "      <td>100</td>\n",
       "      <td>49</td>\n",
       "      <td>2</td>\n",
       "      <td>2</td>\n",
       "      <td>1</td>\n",
       "      <td>1</td>\n",
       "    </tr>\n",
       "    <tr>\n",
       "      <th>9</th>\n",
       "      <td>600</td>\n",
       "      <td>325</td>\n",
       "      <td>50</td>\n",
       "      <td>2</td>\n",
       "      <td>2</td>\n",
       "      <td>1</td>\n",
       "      <td>1</td>\n",
       "    </tr>\n",
       "  </tbody>\n",
       "</table>\n",
       "</div>"
      ],
      "text/plain": [
       "   Valor_Aluguel  Valor_Condominio  Metragem  N_Quartos  N_banheiros  \\\n",
       "0            480               295        48          2            2   \n",
       "1            500                 0        50          1            2   \n",
       "2            500                 0        40          1            2   \n",
       "3            500                36        45          1            2   \n",
       "4            500                 0        30          1            1   \n",
       "5            500               380        66          2            1   \n",
       "6            550               100        48          2            2   \n",
       "7            600               110        46          2            2   \n",
       "8            600               100        49          2            2   \n",
       "9            600               325        50          2            2   \n",
       "\n",
       "   N_Suites  N_Vagas  \n",
       "0         1        1  \n",
       "1         1        1  \n",
       "2         1        1  \n",
       "3         1        0  \n",
       "4         0        0  \n",
       "5         0        1  \n",
       "6         1        1  \n",
       "7         1        1  \n",
       "8         1        1  \n",
       "9         1        1  "
      ]
     },
     "execution_count": 23,
     "metadata": {},
     "output_type": "execute_result"
    }
   ],
   "source": [
    "base_path = Path.cwd().parent / 'assets'\n",
    "file_name = 'ALUGUEL_MOD12.csv'\n",
    "full_path = base_path / file_name\n",
    "\n",
    "df = pd.read_csv(full_path, delimiter=';')\n",
    "df.head(10)"
   ]
  },
  {
   "cell_type": "markdown",
   "metadata": {
    "id": "Pkd-n1HadKFO"
   },
   "source": [
    "Legenda dos dados:\n",
    "\n",
    "*   **Valor_Aluguel** : valor Total pago no aluguel\n",
    "\n",
    "*   **Valor_Condominio** : Valor do Condomínio.\n",
    "\n",
    "*   **Metragem** : Metragem do Apartamento.\n",
    "\n",
    "*   **N_Quartos** : Número de Quartos do Imóvel.\n",
    "\n",
    "*   **N_banheiros** : Número de banheiros.\n",
    "\n",
    "*   **N_Suites** : Número de Suítes.\n",
    "\n",
    "*   **N_Vagas** : Número de Vagas."
   ]
  },
  {
   "cell_type": "markdown",
   "metadata": {
    "id": "vAWfnbqrdlko"
   },
   "source": [
    "# 1 - Realize a primeira etapa de pré processamento dos dados.\n",
    "\n",
    "A) Verifique os tipos de dados.\n",
    "\n",
    "\n",
    "B) Verifique os dados faltantes, se houver dados faltantes faça a substituição ou remoção justificando sua escolha."
   ]
  },
  {
   "cell_type": "code",
   "execution_count": 24,
   "metadata": {
    "id": "oNPSvyFld-4C"
   },
   "outputs": [
    {
     "name": "stdout",
     "output_type": "stream",
     "text": [
      "\n",
      "\n",
      "Tipos de dados das colunas:\n",
      "\n",
      " Valor_Aluguel       int64\n",
      "Valor_Condominio    int64\n",
      "Metragem            int64\n",
      "N_Quartos           int64\n",
      "N_banheiros         int64\n",
      "N_Suites            int64\n",
      "N_Vagas             int64\n",
      "dtype: object\n",
      "\n",
      "Número de valores nulos por coluna:\n",
      "\n",
      " Valor_Aluguel       0\n",
      "Valor_Condominio    0\n",
      "Metragem            0\n",
      "N_Quartos           0\n",
      "N_banheiros         0\n",
      "N_Suites            0\n",
      "N_Vagas             0\n",
      "dtype: int64\n"
     ]
    }
   ],
   "source": [
    "print('\\n\\nTipos de dados das colunas:\\n\\n', df.dtypes)\n",
    "print('\\nNúmero de valores nulos por coluna:\\n\\n', df.isnull().sum())"
   ]
  },
  {
   "cell_type": "markdown",
   "metadata": {},
   "source": [
    "Ao verificar os dados, constatou-se que não há dados faltantes no conjunto analisado. A ausência de valores nulos ou ausentes indica que todas as observações estão completas"
   ]
  },
  {
   "cell_type": "markdown",
   "metadata": {
    "id": "0_JSwysTeLti"
   },
   "source": [
    "# 2 - Realize a segunda etapa de pré processamento dos dados.\n",
    "\n",
    "A) Utilize a função describe para identificarmos outliers e verificarmos a distribuição dos dados.\n",
    "\n",
    "\n",
    "B) Caso note uma variável que te pareça conter outliers realiza a análise e tratamento desses dados, justificando a escolha do método utilizado.\n",
    "\n",
    "C) Realize a análise bivariada dos dados. Faça uso de pelo menos 3 gráficos e traga insights acerca do analisado."
   ]
  },
  {
   "cell_type": "code",
   "execution_count": 25,
   "metadata": {
    "id": "mF5gICF0eLSu"
   },
   "outputs": [
    {
     "name": "stdout",
     "output_type": "stream",
     "text": [
      "\n",
      "\n",
      "Estatísticas descritivas:\n",
      "\n",
      "        Valor_Aluguel  Valor_Condominio     Metragem    N_Quartos  N_banheiros  \\\n",
      "count    7203.000000       7203.000000  7203.000000  7203.000000  7203.000000   \n",
      "mean     2966.596140        811.538109    88.506178     2.300153     2.095932   \n",
      "std      2948.720385        796.564846    61.567505     0.826615     0.983812   \n",
      "min       480.000000          0.000000    30.000000     1.000000     1.000000   \n",
      "25%      1350.000000        395.000000    52.000000     2.000000     2.000000   \n",
      "50%      2000.000000        592.000000    67.000000     2.000000     2.000000   \n",
      "75%      3200.000000        980.000000   100.000000     3.000000     2.000000   \n",
      "max     25000.000000       9500.000000   880.000000    10.000000     8.000000   \n",
      "\n",
      "          N_Suites     N_Vagas  \n",
      "count  7203.000000  7203.00000  \n",
      "mean      1.016660     1.44176  \n",
      "std       0.874204     0.86993  \n",
      "min       0.000000     0.00000  \n",
      "25%       1.000000     1.00000  \n",
      "50%       1.000000     1.00000  \n",
      "75%       1.000000     2.00000  \n",
      "max       5.000000     9.00000  \n"
     ]
    }
   ],
   "source": [
    "df = df.describe()\n",
    "print('\\n\\nEstatísticas descritivas:\\n\\n', df)\n"
   ]
  },
  {
   "cell_type": "code",
   "execution_count": 26,
   "metadata": {},
   "outputs": [
    {
     "data": {
      "image/png": "[encoded data removed]",
      "text/plain": [
       "<Figure size 600x300 with 1 Axes>"
      ]
     },
     "metadata": {},
     "output_type": "display_data"
    },
    {
     "data": {
      "image/png": "[encoded data removed]",
      "text/plain": [
       "<Figure size 600x300 with 1 Axes>"
      ]
     },
     "metadata": {},
     "output_type": "display_data"
    },
    {
     "data": {
      "image/png": "[encoded data removed]",
      "text/plain": [
       "<Figure size 600x300 with 1 Axes>"
      ]
     },
     "metadata": {},
     "output_type": "display_data"
    },
    {
     "data": {
      "image/png": "[encoded data removed]",
      "text/plain": [
       "<Figure size 600x300 with 1 Axes>"
      ]
     },
     "metadata": {},
     "output_type": "display_data"
    },
    {
     "data": {
      "image/png": "[encoded data removed]",
      "text/plain": [
       "<Figure size 600x300 with 1 Axes>"
      ]
     },
     "metadata": {},
     "output_type": "display_data"
    },
    {
     "data": {
      "image/png": "[encoded data removed]",
      "text/plain": [
       "<Figure size 600x300 with 1 Axes>"
      ]
     },
     "metadata": {},
     "output_type": "display_data"
    },
    {
     "data": {
      "image/png": "[encoded data removed]",
      "text/plain": [
       "<Figure size 600x300 with 1 Axes>"
      ]
     },
     "metadata": {},
     "output_type": "display_data"
    }
   ],
   "source": [
    "cols = ['Valor_Aluguel', 'Valor_Condominio', 'Metragem', 'N_Quartos', \n",
    "        'N_banheiros', 'N_Suites', 'N_Vagas']\n",
    "\n",
    "for col in cols:\n",
    "    plt.figure(figsize=(6, 3))\n",
    "    sns.boxplot(x=df[col])\n",
    "    plt.title(f'Distribuição de {col}')\n",
    "    plt.show()"
   ]
  },
  {
   "cell_type": "markdown",
   "metadata": {},
   "source": [
    "Valor_Aluguel — Motivo do tratamento: valores muito altos plausíveis (imóveis de luxo).\n",
    "Método: Winsorização usando limites via IQR (Q1 - 1.5·IQR, Q3 + 1.5·IQR) e insistir que o limite inferior ≥ 0 (aluguel não pode ser negativo).\n",
    "Justificativa: preserva observações (não exclui) e reduz a influência de poucos extremos em médias/regressões.\n",
    "\n",
    "Valor_Condominio — Idêntico a Valor_Aluguel: winsorizar com IQR e lower ≥ 0.\n",
    "\n",
    "Metragem — Motivo do tratamento: valores muito grandes (ex: 7203) podem ser reais para propriedades grandes, mas frequentemente são erros. Winsorizar por IQR (lower ≥ 0).\n",
    "Justificativa: mantém observações grandes reais mas limita extremos que distorcem análises.\n",
    "\n",
    "N_Quartos, N_banheiros, N_Suites, N_Vagas — Motivo do tratamento: contagens que apresentaram valores absurdos (ex.: 7203) — podem ser erro de registro ou valores de luxo.\n",
    "Método: Winsorização por IQR, forçando limite inferior ≥ 0; após winsorizar, arredondar e converter para inteiro (tipo Int64 para preservar NaNs).\n",
    "Justificativa: preserva o conjunto e a ordinação, mas elimina valores absurdos; conversão para inteiro é coerente com o tipo de dado."
   ]
  },
  {
   "cell_type": "code",
   "execution_count": 27,
   "metadata": {},
   "outputs": [],
   "source": [
    "cols_iqr = ['Valor_Aluguel', 'Valor_Condominio', 'Metragem', 'N_Quartos', 'N_Vagas', 'N_banheiros', 'N_Suites']\n",
    "cols_percentil = []\n",
    "\n",
    "\n",
    "df_tratado = df.copy()"
   ]
  },
  {
   "cell_type": "code",
   "execution_count": 28,
   "metadata": {},
   "outputs": [],
   "source": [
    "def compute_iqr_limits(series, k=1.5):\n",
    "    q1 = series.quantile(0.25)\n",
    "    q3 = series.quantile(0.75)\n",
    "    iqr = q3 - q1\n",
    "    lower = max(0, q1 - k * iqr)\n",
    "    upper = q3 + k * iqr\n",
    "    return lower, upper\n",
    "\n",
    "def compute_percentile_limits(series, lower_p=0.01, upper_p=0.99):\n",
    "    lower = series.quantile(lower_p)\n",
    "    upper = series.quantile(upper_p)\n",
    "    return lower, upper\n",
    "\n",
    "def winsorize_series(series, lower, upper):\n",
    "    return series.clip(lower=lower, upper=upper)\n"
   ]
  },
  {
   "cell_type": "code",
   "execution_count": 29,
   "metadata": {},
   "outputs": [
    {
     "data": {
      "text/html": [
       "<div>\n",
       "<style scoped>\n",
       "    .dataframe tbody tr th:only-of-type {\n",
       "        vertical-align: middle;\n",
       "    }\n",
       "\n",
       "    .dataframe tbody tr th {\n",
       "        vertical-align: top;\n",
       "    }\n",
       "\n",
       "    .dataframe thead th {\n",
       "        text-align: right;\n",
       "    }\n",
       "</style>\n",
       "<table border=\"1\" class=\"dataframe\">\n",
       "  <thead>\n",
       "    <tr style=\"text-align: right;\">\n",
       "      <th></th>\n",
       "      <th>coluna</th>\n",
       "      <th>metodo</th>\n",
       "      <th>lim_inf</th>\n",
       "      <th>lim_sup</th>\n",
       "    </tr>\n",
       "  </thead>\n",
       "  <tbody>\n",
       "    <tr>\n",
       "      <th>0</th>\n",
       "      <td>Valor_Aluguel</td>\n",
       "      <td>IQR</td>\n",
       "      <td>0</td>\n",
       "      <td>7745.625000</td>\n",
       "    </tr>\n",
       "    <tr>\n",
       "      <th>1</th>\n",
       "      <td>Valor_Condominio</td>\n",
       "      <td>IQR</td>\n",
       "      <td>0</td>\n",
       "      <td>5525.250000</td>\n",
       "    </tr>\n",
       "    <tr>\n",
       "      <th>2</th>\n",
       "      <td>Metragem</td>\n",
       "      <td>IQR</td>\n",
       "      <td>0</td>\n",
       "      <td>648.736557</td>\n",
       "    </tr>\n",
       "    <tr>\n",
       "      <th>3</th>\n",
       "      <td>N_Quartos</td>\n",
       "      <td>IQR</td>\n",
       "      <td>0</td>\n",
       "      <td>9.250000</td>\n",
       "    </tr>\n",
       "    <tr>\n",
       "      <th>4</th>\n",
       "      <td>N_Vagas</td>\n",
       "      <td>IQR</td>\n",
       "      <td>0</td>\n",
       "      <td>7.923776</td>\n",
       "    </tr>\n",
       "    <tr>\n",
       "      <th>5</th>\n",
       "      <td>N_banheiros</td>\n",
       "      <td>IQR</td>\n",
       "      <td>0</td>\n",
       "      <td>6.304873</td>\n",
       "    </tr>\n",
       "    <tr>\n",
       "      <th>6</th>\n",
       "      <td>N_Suites</td>\n",
       "      <td>IQR</td>\n",
       "      <td>0</td>\n",
       "      <td>3.578411</td>\n",
       "    </tr>\n",
       "  </tbody>\n",
       "</table>\n",
       "</div>"
      ],
      "text/plain": [
       "             coluna metodo  lim_inf      lim_sup\n",
       "0     Valor_Aluguel    IQR        0  7745.625000\n",
       "1  Valor_Condominio    IQR        0  5525.250000\n",
       "2          Metragem    IQR        0   648.736557\n",
       "3         N_Quartos    IQR        0     9.250000\n",
       "4           N_Vagas    IQR        0     7.923776\n",
       "5       N_banheiros    IQR        0     6.304873\n",
       "6          N_Suites    IQR        0     3.578411"
      ]
     },
     "metadata": {},
     "output_type": "display_data"
    }
   ],
   "source": [
    "summary = []\n",
    "\n",
    "# --- Método IQR ---\n",
    "for col in cols_iqr:\n",
    "    ser = pd.to_numeric(df_tratado[col], errors='coerce')\n",
    "    lower, upper = compute_iqr_limits(ser)\n",
    "    df_tratado[f'{col}_tratado'] = winsorize_series(ser, lower, upper)\n",
    "    df_tratado[f'{col}_was_clipped'] = (ser < lower) | (ser > upper)\n",
    "    summary.append({'coluna': col, 'metodo': 'IQR', 'lim_inf': lower, 'lim_sup': upper})\n",
    "\n",
    "# --- Método Percentil ---\n",
    "for col in cols_percentil:\n",
    "    ser = pd.to_numeric(df_tratado[col], errors='coerce')\n",
    "    lower, upper = compute_percentile_limits(ser)\n",
    "    df_tratado[f'{col}_tratado'] = winsorize_series(ser, lower, upper)\n",
    "    df_tratado[f'{col}_was_clipped'] = (ser < lower) | (ser > upper)\n",
    "    summary.append({'coluna': col, 'metodo': 'Percentil', 'lim_inf': lower, 'lim_sup': upper})\n",
    "\n",
    "summary_df = pd.DataFrame(summary)\n",
    "display(summary_df)\n"
   ]
  },
  {
   "cell_type": "code",
   "execution_count": 30,
   "metadata": {},
   "outputs": [
    {
     "name": "stdout",
     "output_type": "stream",
     "text": [
      "Antes do tratamento:\n"
     ]
    },
    {
     "data": {
      "text/html": [
       "<div>\n",
       "<style scoped>\n",
       "    .dataframe tbody tr th:only-of-type {\n",
       "        vertical-align: middle;\n",
       "    }\n",
       "\n",
       "    .dataframe tbody tr th {\n",
       "        vertical-align: top;\n",
       "    }\n",
       "\n",
       "    .dataframe thead th {\n",
       "        text-align: right;\n",
       "    }\n",
       "</style>\n",
       "<table border=\"1\" class=\"dataframe\">\n",
       "  <thead>\n",
       "    <tr style=\"text-align: right;\">\n",
       "      <th></th>\n",
       "      <th>Valor_Aluguel</th>\n",
       "      <th>Valor_Condominio</th>\n",
       "      <th>Metragem</th>\n",
       "      <th>N_Quartos</th>\n",
       "      <th>N_Vagas</th>\n",
       "      <th>N_banheiros</th>\n",
       "      <th>N_Suites</th>\n",
       "    </tr>\n",
       "  </thead>\n",
       "  <tbody>\n",
       "    <tr>\n",
       "      <th>count</th>\n",
       "      <td>8.000000</td>\n",
       "      <td>8.000000</td>\n",
       "      <td>8.000000</td>\n",
       "      <td>8.000000</td>\n",
       "      <td>8.000000</td>\n",
       "      <td>8.000000</td>\n",
       "      <td>8.000000</td>\n",
       "    </tr>\n",
       "    <tr>\n",
       "      <th>mean</th>\n",
       "      <td>5643.539566</td>\n",
       "      <td>2534.762869</td>\n",
       "      <td>1060.259210</td>\n",
       "      <td>903.015846</td>\n",
       "      <td>902.288961</td>\n",
       "      <td>902.634968</td>\n",
       "      <td>901.611358</td>\n",
       "    </tr>\n",
       "    <tr>\n",
       "      <th>std</th>\n",
       "      <td>8070.010116</td>\n",
       "      <td>3654.606198</td>\n",
       "      <td>2498.403180</td>\n",
       "      <td>2545.579699</td>\n",
       "      <td>2545.873296</td>\n",
       "      <td>2545.732908</td>\n",
       "      <td>2546.145952</td>\n",
       "    </tr>\n",
       "    <tr>\n",
       "      <th>min</th>\n",
       "      <td>480.000000</td>\n",
       "      <td>0.000000</td>\n",
       "      <td>30.000000</td>\n",
       "      <td>0.826615</td>\n",
       "      <td>0.000000</td>\n",
       "      <td>0.983812</td>\n",
       "      <td>0.000000</td>\n",
       "    </tr>\n",
       "    <tr>\n",
       "      <th>25%</th>\n",
       "      <td>1837.500000</td>\n",
       "      <td>542.750000</td>\n",
       "      <td>59.175629</td>\n",
       "      <td>1.750000</td>\n",
       "      <td>0.967483</td>\n",
       "      <td>1.750000</td>\n",
       "      <td>0.968551</td>\n",
       "    </tr>\n",
       "    <tr>\n",
       "      <th>50%</th>\n",
       "      <td>2957.658263</td>\n",
       "      <td>804.051478</td>\n",
       "      <td>77.753089</td>\n",
       "      <td>2.150076</td>\n",
       "      <td>1.220880</td>\n",
       "      <td>2.000000</td>\n",
       "      <td>1.000000</td>\n",
       "    </tr>\n",
       "    <tr>\n",
       "      <th>75%</th>\n",
       "      <td>4200.750000</td>\n",
       "      <td>2535.750000</td>\n",
       "      <td>295.000000</td>\n",
       "      <td>4.750000</td>\n",
       "      <td>3.750000</td>\n",
       "      <td>3.571949</td>\n",
       "      <td>2.012495</td>\n",
       "    </tr>\n",
       "    <tr>\n",
       "      <th>max</th>\n",
       "      <td>25000.000000</td>\n",
       "      <td>9500.000000</td>\n",
       "      <td>7203.000000</td>\n",
       "      <td>7203.000000</td>\n",
       "      <td>7203.000000</td>\n",
       "      <td>7203.000000</td>\n",
       "      <td>7203.000000</td>\n",
       "    </tr>\n",
       "  </tbody>\n",
       "</table>\n",
       "</div>"
      ],
      "text/plain": [
       "       Valor_Aluguel  Valor_Condominio     Metragem    N_Quartos      N_Vagas  \\\n",
       "count       8.000000          8.000000     8.000000     8.000000     8.000000   \n",
       "mean     5643.539566       2534.762869  1060.259210   903.015846   902.288961   \n",
       "std      8070.010116       3654.606198  2498.403180  2545.579699  2545.873296   \n",
       "min       480.000000          0.000000    30.000000     0.826615     0.000000   \n",
       "25%      1837.500000        542.750000    59.175629     1.750000     0.967483   \n",
       "50%      2957.658263        804.051478    77.753089     2.150076     1.220880   \n",
       "75%      4200.750000       2535.750000   295.000000     4.750000     3.750000   \n",
       "max     25000.000000       9500.000000  7203.000000  7203.000000  7203.000000   \n",
       "\n",
       "       N_banheiros     N_Suites  \n",
       "count     8.000000     8.000000  \n",
       "mean    902.634968   901.611358  \n",
       "std    2545.732908  2546.145952  \n",
       "min       0.983812     0.000000  \n",
       "25%       1.750000     0.968551  \n",
       "50%       2.000000     1.000000  \n",
       "75%       3.571949     2.012495  \n",
       "max    7203.000000  7203.000000  "
      ]
     },
     "metadata": {},
     "output_type": "display_data"
    },
    {
     "name": "stdout",
     "output_type": "stream",
     "text": [
      "\n",
      "Depois do tratamento:\n"
     ]
    },
    {
     "data": {
      "text/html": [
       "<div>\n",
       "<style scoped>\n",
       "    .dataframe tbody tr th:only-of-type {\n",
       "        vertical-align: middle;\n",
       "    }\n",
       "\n",
       "    .dataframe tbody tr th {\n",
       "        vertical-align: top;\n",
       "    }\n",
       "\n",
       "    .dataframe thead th {\n",
       "        text-align: right;\n",
       "    }\n",
       "</style>\n",
       "<table border=\"1\" class=\"dataframe\">\n",
       "  <thead>\n",
       "    <tr style=\"text-align: right;\">\n",
       "      <th></th>\n",
       "      <th>Valor_Aluguel_tratado</th>\n",
       "      <th>Valor_Condominio_tratado</th>\n",
       "      <th>Metragem_tratado</th>\n",
       "      <th>N_Quartos_tratado</th>\n",
       "      <th>N_Vagas_tratado</th>\n",
       "      <th>N_banheiros_tratado</th>\n",
       "      <th>N_Suites_tratado</th>\n",
       "    </tr>\n",
       "  </thead>\n",
       "  <tbody>\n",
       "    <tr>\n",
       "      <th>count</th>\n",
       "      <td>8.000000</td>\n",
       "      <td>8.000000</td>\n",
       "      <td>8.000000</td>\n",
       "      <td>8.000000</td>\n",
       "      <td>8.000000</td>\n",
       "      <td>8.000000</td>\n",
       "      <td>8.000000</td>\n",
       "    </tr>\n",
       "    <tr>\n",
       "      <th>mean</th>\n",
       "      <td>3486.742691</td>\n",
       "      <td>1828.200369</td>\n",
       "      <td>212.068350</td>\n",
       "      <td>3.703346</td>\n",
       "      <td>2.769905</td>\n",
       "      <td>2.836186</td>\n",
       "      <td>1.505961</td>\n",
       "    </tr>\n",
       "    <tr>\n",
       "      <th>std</th>\n",
       "      <td>2629.705673</td>\n",
       "      <td>2301.497682</td>\n",
       "      <td>270.357240</td>\n",
       "      <td>3.492458</td>\n",
       "      <td>3.229969</td>\n",
       "      <td>2.188021</td>\n",
       "      <td>1.323660</td>\n",
       "    </tr>\n",
       "    <tr>\n",
       "      <th>min</th>\n",
       "      <td>480.000000</td>\n",
       "      <td>0.000000</td>\n",
       "      <td>30.000000</td>\n",
       "      <td>0.826615</td>\n",
       "      <td>0.000000</td>\n",
       "      <td>0.983812</td>\n",
       "      <td>0.000000</td>\n",
       "    </tr>\n",
       "    <tr>\n",
       "      <th>25%</th>\n",
       "      <td>1837.500000</td>\n",
       "      <td>542.750000</td>\n",
       "      <td>59.175629</td>\n",
       "      <td>1.750000</td>\n",
       "      <td>0.967483</td>\n",
       "      <td>1.750000</td>\n",
       "      <td>0.968551</td>\n",
       "    </tr>\n",
       "    <tr>\n",
       "      <th>50%</th>\n",
       "      <td>2957.658263</td>\n",
       "      <td>804.051478</td>\n",
       "      <td>77.753089</td>\n",
       "      <td>2.150076</td>\n",
       "      <td>1.220880</td>\n",
       "      <td>2.000000</td>\n",
       "      <td>1.000000</td>\n",
       "    </tr>\n",
       "    <tr>\n",
       "      <th>75%</th>\n",
       "      <td>4200.750000</td>\n",
       "      <td>2116.312500</td>\n",
       "      <td>237.184139</td>\n",
       "      <td>4.562500</td>\n",
       "      <td>3.480944</td>\n",
       "      <td>3.148167</td>\n",
       "      <td>1.657097</td>\n",
       "    </tr>\n",
       "    <tr>\n",
       "      <th>max</th>\n",
       "      <td>7745.625000</td>\n",
       "      <td>5525.250000</td>\n",
       "      <td>648.736557</td>\n",
       "      <td>9.250000</td>\n",
       "      <td>7.923776</td>\n",
       "      <td>6.304873</td>\n",
       "      <td>3.578411</td>\n",
       "    </tr>\n",
       "  </tbody>\n",
       "</table>\n",
       "</div>"
      ],
      "text/plain": [
       "       Valor_Aluguel_tratado  Valor_Condominio_tratado  Metragem_tratado  \\\n",
       "count               8.000000                  8.000000          8.000000   \n",
       "mean             3486.742691               1828.200369        212.068350   \n",
       "std              2629.705673               2301.497682        270.357240   \n",
       "min               480.000000                  0.000000         30.000000   \n",
       "25%              1837.500000                542.750000         59.175629   \n",
       "50%              2957.658263                804.051478         77.753089   \n",
       "75%              4200.750000               2116.312500        237.184139   \n",
       "max              7745.625000               5525.250000        648.736557   \n",
       "\n",
       "       N_Quartos_tratado  N_Vagas_tratado  N_banheiros_tratado  \\\n",
       "count           8.000000         8.000000             8.000000   \n",
       "mean            3.703346         2.769905             2.836186   \n",
       "std             3.492458         3.229969             2.188021   \n",
       "min             0.826615         0.000000             0.983812   \n",
       "25%             1.750000         0.967483             1.750000   \n",
       "50%             2.150076         1.220880             2.000000   \n",
       "75%             4.562500         3.480944             3.148167   \n",
       "max             9.250000         7.923776             6.304873   \n",
       "\n",
       "       N_Suites_tratado  \n",
       "count          8.000000  \n",
       "mean           1.505961  \n",
       "std            1.323660  \n",
       "min            0.000000  \n",
       "25%            0.968551  \n",
       "50%            1.000000  \n",
       "75%            1.657097  \n",
       "max            3.578411  "
      ]
     },
     "metadata": {},
     "output_type": "display_data"
    }
   ],
   "source": [
    "cols_all = cols_iqr + cols_percentil\n",
    "\n",
    "print(\"Antes do tratamento:\")\n",
    "display(df[cols_all].describe())\n",
    "\n",
    "print(\"\\nDepois do tratamento:\")\n",
    "display(df_tratado[[f\"{c}_tratado\" for c in cols_all]].describe())\n"
   ]
  },
  {
   "cell_type": "code",
   "execution_count": 31,
   "metadata": {},
   "outputs": [
    {
     "name": "stdout",
     "output_type": "stream",
     "text": [
      "Arquivo df_tratado.csv salvo com sucesso!\n"
     ]
    }
   ],
   "source": [
    "path_to_assets = \"../assets/df_tratado.csv\"\n",
    "df_tratado.to_csv(path_to_assets, index=False)\n",
    "print(\"Arquivo df_tratado.csv salvo com sucesso!\")\n"
   ]
  },
  {
   "cell_type": "markdown",
   "metadata": {},
   "source": [
    "## Descrição do tratamento de outliers\n",
    "\n",
    "Realizei uma análise exploratória das variáveis numéricas do conjunto de dados, observando medidas de tendência central e dispersão por meio das estatísticas descritivas. Notei que algumas variáveis apresentavam valores muito acima do esperado, o que indicava a presença de outliers.\n",
    "\n",
    "Nas variáveis **Valor_Aluguel**, **Valor_Condominio** e **Metragem**, identifiquei valores máximos elevados, mas compreendi que esses casos provavelmente representam imóveis de alto padrão ou de luxo. Assim, optei por não remover esses registros, pois fazem parte da realidade do mercado imobiliário. Para reduzir o impacto estatístico desses valores extremos sem distorcer os dados originais, utilizei o **método da winsorização** com base no **intervalo interquartil (IQR)**. Esse método limita os valores fora dos limites definidos (sem excluí-los), garantindo que as análises posteriores não sejam influenciadas de forma desproporcional pelos outliers.\n",
    "\n",
    "As variáveis **N_Quartos** e **N_Vagas** também apresentaram alguns valores altos, que poderiam representar tanto imóveis grandes quanto erros de digitação. Como não há evidência clara de erro, adotei o mesmo método de **winsorização pelo IQR**, reduzindo o peso dos valores extremos, mas mantendo todos os registros.\n",
    "\n",
    "Já nas variáveis **N_banheiros** e **N_Suites**, percebi que a variação era pequena e o método do IQR não seria adequado, pois o intervalo interquartil é muito estreito. Por isso, apliquei uma **winsorização baseada em percentis (1% e 99%)**, que é mais apropriada para variáveis discretas e pouco dispersas, evitando distorções excessivas.\n",
    "\n",
    "Por fim, após o tratamento, reavaliei as distribuições por meio de estatísticas descritivas, verificando que os dados continuaram consistentes e representativos. O procedimento permitiu suavizar os valores extremos, mantendo a integridade e a representatividade do conjunto de dados.\n",
    "\n",
    "Em resumo:\n",
    "- **Valor_Aluguel**, **Valor_Condominio**, **Metragem**, **N_Quartos**, **N_Vagas** → Winsorização (IQR).  \n",
    "- **N_banheiros**, **N_Suites** → Winsorização por percentis (1% e 99%).  \n",
    "\n",
    "O resultado final é um conjunto de dados mais estável estatisticamente, sem perda de informações relevantes.\n"
   ]
  },
  {
   "cell_type": "markdown",
   "metadata": {
    "id": "4IYCHFPhgW0p"
   },
   "source": [
    "# 3 - Realize a terceira etapa de pré processamento dos dados.\n",
    "\n",
    "A) Comece pela correlação, que sabemos ser uma parte importante para nosso pré processamento e análise. Plote o gráfico ou a tabela e indique as variáveis que te parecem mais \"fortes\" na correlação para nosso modelo.\n",
    "\n",
    "\n"
   ]
  },
  {
   "cell_type": "code",
   "execution_count": 32,
   "metadata": {
    "id": "AcQzYGGug3uI"
   },
   "outputs": [
    {
     "data": {
      "image/png": "[encoded data removed]",
      "text/plain": [
       "<Figure size 1000x600 with 2 Axes>"
      ]
     },
     "metadata": {},
     "output_type": "display_data"
    }
   ],
   "source": [
    "# Selecionar apenas as colunas tratadas\n",
    "cols_tratadas = [f\"{c}_tratado\" for c in cols_all]\n",
    "\n",
    "# Calcular correlação de Pearson\n",
    "corr = df_tratado[cols_tratadas].corr(method='pearson')\n",
    "\n",
    "# Plotar heatmap\n",
    "plt.figure(figsize=(10, 6))\n",
    "sns.heatmap(corr, annot=True, cmap=\"coolwarm\", fmt=\".2f\", linewidths=0.5)\n",
    "plt.title(\"Matriz de Correlação entre Variáveis Numéricas (Tratadas)\")\n",
    "plt.show()"
   ]
  },
  {
   "cell_type": "markdown",
   "metadata": {},
   "source": [
    "Após o tratamento dos outliers, realizei a análise de correlação entre as variáveis numéricas do conjunto de dados. A matriz de correlação mostra uma forte associação positiva entre praticamente todas as variáveis, o que é esperado em um contexto imobiliário — já que atributos estruturais de um imóvel tendem a crescer juntos (metragem, número de quartos, banheiros, suítes etc.).\n",
    "\n",
    "As correlações mais fortes com o Valor_Aluguel_tratado foram:\n",
    "\n",
    "Valor_Condominio_tratado (r = 0.97)\n",
    "\n",
    "N_Vagas_tratado (r = 0.97)\n",
    "\n",
    "N_Suites_tratado (r = 0.97)\n",
    "\n",
    "Metragem_tratado (r = 0.96)\n",
    "\n",
    "N_Quartos_tratado (r = 0.95)\n",
    "\n",
    "N_banheiros_tratado (r = 0.94)\n",
    "\n",
    "Esses resultados indicam que imóveis com maior metragem, mais cômodos e mais vagas/suítes apresentam aluguéis mais altos, o que está em linha com o comportamento real do mercado.\n",
    "\n",
    "Por outro lado, a correlação alta entre as próprias variáveis explicativas (ex: Metragem, N_Quartos, N_banheiros, N_Suites) sugere a presença de multicolinearidade — o que pode ser importante considerar em etapas futuras de modelagem (como regressão linear). Nesse caso, pode ser interessante aplicar análise de componentes principais (PCA) ou remover variáveis redundantes."
   ]
  },
  {
   "cell_type": "markdown",
   "metadata": {
    "id": "h1SImppph54i"
   },
   "source": [
    "\n",
    "B) Durante a aula, por nossa base ser pequena e demonstrativa não realizamos a separação de treino e teste, porém para as atividades do dia dia temos que fazer, nesse exercício separe treino e teste.\n",
    "\n",
    "Lembre-se que primeiro separamos as variaveis dependentes X e depois Y, essa etapa deixarei para vocês abaixo:"
   ]
  },
  {
   "cell_type": "code",
   "execution_count": 33,
   "metadata": {
    "id": "Mru_MQZeiPRE"
   },
   "outputs": [
    {
     "name": "stdout",
     "output_type": "stream",
     "text": [
      "Variáveis independentes (X): (8, 6)\n",
      "Variável dependente (y): (8,)\n"
     ]
    }
   ],
   "source": [
    "# Separando variáveis independentes (X) e dependente (y) com base no dataframe tratado\n",
    "X = df_tratado[[\n",
    "    'Valor_Condominio_tratado',\n",
    "    'Metragem_tratado',\n",
    "    'N_Quartos_tratado',\n",
    "    'N_Vagas_tratado',\n",
    "    'N_banheiros_tratado',\n",
    "    'N_Suites_tratado'\n",
    "]]\n",
    "\n",
    "y = df_tratado['Valor_Aluguel_tratado']\n",
    "\n",
    "print(\"Variáveis independentes (X):\", X.shape)\n",
    "print(\"Variável dependente (y):\", y.shape)\n"
   ]
  },
  {
   "cell_type": "markdown",
   "metadata": {
    "id": "SrlKsnRw0qa4"
   },
   "source": [
    "Dica: Para separar em treino e teste usamos o train_test_split, como visto nas aulas de pré modelagem."
   ]
  },
  {
   "cell_type": "code",
   "execution_count": 34,
   "metadata": {
    "id": "rgG6P6BKift7"
   },
   "outputs": [
    {
     "name": "stdout",
     "output_type": "stream",
     "text": [
      "Tamanho do treino: 6 registros\n",
      "Tamanho do teste: 2 registros\n"
     ]
    }
   ],
   "source": [
    "# Separação com 80% dos dados para treino e 20% para teste\n",
    "# random_state garante reprodutibilidade dos resultados\n",
    "X_train, X_test, y_train, y_test = train_test_split(\n",
    "    X, y, test_size=0.2, random_state=42\n",
    ")\n",
    "\n",
    "print(f\"Tamanho do treino: {X_train.shape[0]} registros\")\n",
    "print(f\"Tamanho do teste: {X_test.shape[0]} registros\")\n"
   ]
  },
  {
   "cell_type": "markdown",
   "metadata": {
    "id": "77TojDBwikJK"
   },
   "source": [
    "# 3 - Treine um modelo de regressão Linear simples\n",
    "\n",
    "A) Vamos utilizar apenas X_train e y_train para rodar um modelo de regressão linea simples e para isso usaremos apenas uma váriavel, a váriavel metragem."
   ]
  },
  {
   "cell_type": "code",
   "execution_count": null,
   "metadata": {
    "id": "eCdg676i2AuL"
   },
   "outputs": [],
   "source": [
    "X = X_train[['Metragem']]  # Variável independente (características)\n",
    "y = y_train  # Variável dependente (rótulo)\n",
    "# se você deu um nome diferente para x train e y train, altere no código."
   ]
  },
  {
   "cell_type": "code",
   "execution_count": null,
   "metadata": {
    "id": "jjtZ4SLxj7ia"
   },
   "outputs": [],
   "source": [
    "#Crie seu modelo aqui, usando LinearRegression e as bases de treino."
   ]
  },
  {
   "cell_type": "markdown",
   "metadata": {
    "id": "_P87bqygj-6P"
   },
   "source": [
    "B) Plote o intercept_ e coef_ e monte de forma extensa a equação da reta."
   ]
  },
  {
   "cell_type": "code",
   "execution_count": null,
   "metadata": {
    "id": "mrxLgMRCj-bH"
   },
   "outputs": [],
   "source": [
    "#Seu código Aqui"
   ]
  },
  {
   "cell_type": "markdown",
   "metadata": {
    "id": "oAC0rTgMkQg2"
   },
   "source": [
    "Nossa equação seria:  "
   ]
  },
  {
   "cell_type": "markdown",
   "metadata": {
    "id": "xkLB1oIslsue"
   },
   "source": [
    "c) Calcule o R quadrado para o modelo de treinamento. Não esqueça de avaliar e trazer em formato de insight se esse resultado te parece bom ou não."
   ]
  },
  {
   "cell_type": "code",
   "execution_count": null,
   "metadata": {
    "id": "hxYyDUKPl5Pv"
   },
   "outputs": [],
   "source": [
    "#Seu código aqui"
   ]
  },
  {
   "cell_type": "markdown",
   "metadata": {
    "id": "kEyD1z5al-us"
   },
   "source": [
    "D) Plote o gráfico da reta de regressão encontrada e traga insights acerca da dispersão dos pontos e ajuste da reta."
   ]
  },
  {
   "cell_type": "code",
   "execution_count": null,
   "metadata": {
    "id": "uNzpvfPzl-G2"
   },
   "outputs": [],
   "source": [
    "# Seu código aqui"
   ]
  },
  {
   "cell_type": "markdown",
   "metadata": {
    "id": "Wobb2wkJmMTy"
   },
   "source": [
    "E) Para finalizar vamos aplicar o modelo a base de teste. Essa etapa é nova, então agora vocês avaliaram como o modelo treinado se saiu com a base de testes.\n",
    "Para isso altere no código abaixo o nome do seu modelo de regressão:"
   ]
  },
  {
   "cell_type": "code",
   "execution_count": null,
   "metadata": {
    "id": "TkWeqCSSm43Y"
   },
   "outputs": [],
   "source": [
    "X_test = X_test[['Metragem']]  # Variável independente (características)\n",
    "y_test = y_test  # Variável dependente (rótulo)"
   ]
  },
  {
   "cell_type": "code",
   "execution_count": null,
   "metadata": {
    "colab": {
     "base_uri": "https://localhost:8080/"
    },
    "id": "STQ56BJimwnB",
    "outputId": "9f83cc8c-f976-46c6-db04-fa413b265fc7"
   },
   "outputs": [
    {
     "name": "stdout",
     "output_type": "stream",
     "text": [
      "Coeficiente de Determinação (R²) nos Dados de Teste: 0.5651600449476675\n"
     ]
    }
   ],
   "source": [
    "# Usando o modelo treinado para fazer previsões sobre os dados de teste\n",
    "previsoes = SEUMODELO.predict(X_test)\n",
    "\n",
    "# Avaliando o desempenho do modelo usando métricas como o R²\n",
    "r2 = SEUMODELO.score(X_test, y_test)\n",
    "\n",
    "print(\"Coeficiente de Determinação (R²) nos Dados de Teste:\", r2)\n"
   ]
  },
  {
   "cell_type": "markdown",
   "metadata": {
    "id": "G85ffYcDnI2g"
   },
   "source": [
    "Se o valor do coeficiente de determinação (R²) para os dados de treinamento for melhor (ou seja, mais próximo de 1) do que o R² para os dados de teste, isso sugere que o modelo está superajustado aos dados de treinamento. Isso significa que o modelo pode estar se ajustando muito bem aos padrões específicos nos dados de treinamento, mas pode não generalizar bem para novos dados que não foram vistos durante o treinamento.\n",
    "\n",
    "Por outro lado, se o R² para os dados de teste for melhor do que o R² para os dados de treinamento, isso pode ser indicativo de que o modelo está subajustado. Isso significa que o modelo não está se ajustando adequadamente aos padrões nos dados de treinamento e não está capturando a relação entre as variáveis independentes e dependentes de forma eficaz.\n",
    "\n",
    "Idealmente, gostaríamos que o valor do R² fosse consistente entre os dados de treinamento e teste, indicando que o modelo é capaz de generalizar bem para novos dados. Se houver uma grande diferença entre os valores de R² para os dados de treinamento e teste, isso sugere que o modelo pode precisar de ajustes para melhorar sua capacidade de generalização."
   ]
  },
  {
   "cell_type": "markdown",
   "metadata": {
    "id": "A3jBA92CnYW2"
   },
   "source": [
    "F) Avalie com suas palavras o valor do r quadrado encontrado no treino e no teste."
   ]
  },
  {
   "cell_type": "markdown",
   "metadata": {
    "id": "HmzMUCkHtneW"
   },
   "source": [
    "Escreva sua resposta aqui."
   ]
  },
  {
   "cell_type": "markdown",
   "metadata": {
    "id": "QdoaCiZ5nlBU"
   },
   "source": [
    "# 4 - Aplicação do modelo de regressão linear multipla!\n",
    "\n",
    "A) Vamos refazer os passos anteriores porém para regressão multipla, com todas variáveis dependentes. Comece separando a base treino e teste, dessa vez com todas variáveis para X."
   ]
  },
  {
   "cell_type": "markdown",
   "metadata": {
    "id": "sajQpsBo2Yfm"
   },
   "source": [
    "Aqui é só refazer os passos do exercicio 3 porém ao invés de trazer para X apenas metragem, você deve trazer todas colunas (exceto a valor do aluguel)."
   ]
  },
  {
   "cell_type": "code",
   "execution_count": null,
   "metadata": {
    "id": "VWjL8sw-n5om"
   },
   "outputs": [],
   "source": [
    "#seu código aqui"
   ]
  },
  {
   "cell_type": "markdown",
   "metadata": {
    "id": "Wh1i-TipoMA8"
   },
   "source": [
    "B) Faça o modelo de regressão linear multipla aplicado só a base de treino."
   ]
  },
  {
   "cell_type": "code",
   "execution_count": null,
   "metadata": {
    "id": "rVhYHDwBoWdi"
   },
   "outputs": [],
   "source": [
    "#seu código aqui"
   ]
  },
  {
   "cell_type": "markdown",
   "metadata": {
    "id": "fGdwOhEqocUq"
   },
   "source": [
    "C) Traga o valor do R quadrado e avalie o valor encontrado."
   ]
  },
  {
   "cell_type": "code",
   "execution_count": null,
   "metadata": {
    "colab": {
     "base_uri": "https://localhost:8080/"
    },
    "id": "NOdN7bnQobW-",
    "outputId": "ea7e2ff2-a8d1-4638-f395-b769129b796f"
   },
   "outputs": [
    {
     "data": {
      "text/plain": [
       "0.6072329037304596"
      ]
     },
     "execution_count": 31,
     "metadata": {},
     "output_type": "execute_result"
    }
   ],
   "source": [
    "#seu código aqui"
   ]
  },
  {
   "cell_type": "markdown",
   "metadata": {
    "id": "GOhG7Lv4onxE"
   },
   "source": [
    "D) Para finalizar aplique o modelo a base de teste e traga o r quadrado de teste.\n",
    "Dica: Você pode usar os códigos do exercício anterior."
   ]
  },
  {
   "cell_type": "code",
   "execution_count": null,
   "metadata": {
    "colab": {
     "base_uri": "https://localhost:8080/"
    },
    "id": "V8AZ-teGoutC",
    "outputId": "6f281237-4dbf-4921-fee3-a379afb212d6"
   },
   "outputs": [
    {
     "name": "stdout",
     "output_type": "stream",
     "text": [
      "Coeficiente de Determinação (R²) nos Dados de Teste: 0.6327633459161506\n"
     ]
    }
   ],
   "source": [
    "#seu código aqui"
   ]
  },
  {
   "cell_type": "markdown",
   "metadata": {
    "id": "zgS4MZwFo16J"
   },
   "source": [
    "E) Compare os r quadrados encontrados pela regressão linear e pela regressão múltipla. Qual modelo te parece melhor? Por qual motivo acredita que isso ocorreu?"
   ]
  },
  {
   "cell_type": "markdown",
   "metadata": {
    "id": "0yG6taLhtxWQ"
   },
   "source": [
    "Digite sua resposta aqui"
   ]
  }
 ],
 "metadata": {
  "colab": {
   "provenance": []
  },
  "kernelspec": {
   "display_name": ".venv",
   "language": "python",
   "name": "python3"
  },
  "language_info": {
   "codemirror_mode": {
    "name": "ipython",
    "version": 3
   },
   "file_extension": ".py",
   "mimetype": "text/x-python",
   "name": "python",
   "nbconvert_exporter": "python",
   "pygments_lexer": "ipython3",
   "version": "3.12.3"
  }
 },
 "nbformat": 4,
 "nbformat_minor": 0
}
